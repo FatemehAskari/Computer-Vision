{
  "cells": [
    {
      "attachments": {},
      "cell_type": "markdown",
      "metadata": {
        "id": "P9PoDHBl3QKv"
      },
      "source": [
        "# Q3\n",
        "*Work with Numpy*<br>\n",
        "In this notebook you're going to work with the numpy library to solve the problems<br>\n",
        "Please follow the instructions and hints provided for each cell"
      ]
    },
    {
      "attachments": {},
      "cell_type": "markdown",
      "metadata": {},
      "source": [
        "## Part A"
      ]
    },
    {
      "cell_type": "code",
      "execution_count": 1,
      "metadata": {
        "id": "1ZbZ5H1j5Zhw"
      },
      "outputs": [],
      "source": [
        "import numpy as np"
      ]
    },
    {
      "cell_type": "code",
      "execution_count": 2,
      "metadata": {
        "id": "5nvuXUyB2aLJ"
      },
      "outputs": [],
      "source": [
        "def create_matrix(n):\n",
        "  \"\"\"\n",
        "  In this function you should create matrix in order of n*n with random numbers \n",
        "  in the [n, n+100) interval.\n",
        "\n",
        "  see the bellow link:\n",
        "    https://numpy.org/doc/stable/reference/random/generated/numpy.random.randint.html\n",
        "\n",
        "  Arguments:\n",
        "    inputs:\n",
        "      n: an integer describing the order of the matrix\n",
        "    outputs:\n",
        "      created matrix  \n",
        "  \"\"\"\n",
        "  ##############################################\n",
        "  ############ YOUR CODES GO HERE ##############\n",
        "  matrix = np.random.randint(n, n+100, size=(n, n))\n",
        "  ##############################################\n",
        "\n",
        "  return matrix"
      ]
    },
    {
      "cell_type": "code",
      "execution_count": 3,
      "metadata": {
        "id": "1PiKjLsl6KhD"
      },
      "outputs": [
        {
          "name": "stdout",
          "output_type": "stream",
          "text": [
            "[[ 70  53  67  61  99  46  46]\n",
            " [ 67  56  93  77  96  63  88]\n",
            " [ 70  99  12  43  29  66  43]\n",
            " [ 36 104   7  84  15  78  82]\n",
            " [ 33   8   9  99  90  56  79]\n",
            " [ 11  35  34  11  97  42  73]\n",
            " [ 60  54   9  84  68  64  63]]\n"
          ]
        }
      ],
      "source": [
        "\"\"\"\n",
        "In this cell you should get the input n and create the matrix by calling the function\n",
        "Then print the matrix\n",
        "\"\"\"\n",
        "##############################################\n",
        "############ YOUR CODES GO HERE ##############\n",
        "n = int(input())\n",
        "matrix = create_matrix(n)\n",
        "print(matrix)\n",
        "# print matrix\n",
        "##############################################"
      ]
    },
    {
      "cell_type": "code",
      "execution_count": 4,
      "metadata": {
        "id": "Cnocq2_56mdx"
      },
      "outputs": [],
      "source": [
        "def count_digits(matrix):\n",
        "  \"\"\"\n",
        "  In this function you should implement a routine to count the digits in the given matrix.\n",
        "\n",
        "  Arguments:\n",
        "    inputs:\n",
        "      matrix: input matrix\n",
        "    outputs:\n",
        "      digits: a dictionary containing digits as its keys and the counted numbers as its value\n",
        "  \"\"\"\n",
        "\n",
        "  ##############################################\n",
        "  ############ YOUR CODES GO HERE ##############\n",
        "  digits = {}\n",
        "  for i in range(0,10):\n",
        "    digits[i]=0\n",
        "  rows=matrix.shape[0]\n",
        "  cols=matrix.shape[1]\n",
        "  for x in range(0,rows):\n",
        "    for y in range(0,cols):                       \n",
        "      findhasdigit=[int(digit) for digit in str(matrix[x,y])[::1]]\n",
        "      for r in findhasdigit:            \n",
        "        digits[r]+=1  \n",
        "              \n",
        "  \n",
        "  ##############################################\n",
        "\n",
        "  return digits\n"
      ]
    },
    {
      "cell_type": "code",
      "execution_count": 5,
      "metadata": {
        "id": "Aq3mHGcc7f2i"
      },
      "outputs": [
        {
          "name": "stdout",
          "output_type": "stream",
          "text": [
            "{0: 5, 1: 8, 2: 4, 3: 12, 4: 11, 5: 6, 6: 16, 7: 11, 8: 8, 9: 14}\n"
          ]
        }
      ],
      "source": [
        "\"\"\"\n",
        "In this cell call the implemented function and print the result\n",
        "\"\"\"\n",
        "##############################################\n",
        "############ YOUR CODES GO HERE ##############\n",
        "##############################################\n",
        "print(count_digits(matrix))"
      ]
    },
    {
      "attachments": {},
      "cell_type": "markdown",
      "metadata": {
        "id": "ALqhYliZ8Ie8"
      },
      "source": [
        "## Part B"
      ]
    },
    {
      "cell_type": "code",
      "execution_count": 22,
      "metadata": {
        "id": "bhTfjtO78LT1"
      },
      "outputs": [],
      "source": [
        "\n",
        "#source:https://www.geeksforgeeks.org/print-matrix-in-zig-zag-fashion/\n",
        "def traverse_matrix(matrix):\n",
        "      \n",
        "  \"\"\"\n",
        "  Traverse the input matrix in the given manner then print result\n",
        "\n",
        "  Arguments:\n",
        "    inputs:\n",
        "      matrix: input matrix\n",
        "    outputs\n",
        "  \"\"\"\n",
        "\n",
        "  ##############################################\n",
        "  ############ YOUR CODES GO HERE ##############\n",
        "  ##############################################\n",
        "  rows=matrix.shape[0]\n",
        "  cols=matrix.shape[1]\n",
        "  trav=[[] for i in range(0,rows+cols-1)]\n",
        "  for x in range(0,rows):\n",
        "    for y in range(0,cols):\n",
        "      s=x+y\n",
        "      if s%2==1:\n",
        "        trav[s].append(matrix[x,y])\n",
        "      else:\n",
        "        trav[s].insert(0,matrix[x,y])\n",
        "  for i in trav:\n",
        "    for j in i:\n",
        "      print(j)                \n",
        "          \n",
        "  "
      ]
    },
    {
      "cell_type": "code",
      "execution_count": 23,
      "metadata": {
        "id": "9Imf-wvd8oKL"
      },
      "outputs": [
        {
          "name": "stdout",
          "output_type": "stream",
          "text": [
            "70\n",
            "53\n",
            "67\n",
            "70\n",
            "56\n",
            "67\n",
            "61\n",
            "93\n",
            "99\n",
            "36\n",
            "33\n",
            "104\n",
            "12\n",
            "77\n",
            "99\n",
            "46\n",
            "96\n",
            "43\n",
            "7\n",
            "8\n",
            "11\n",
            "60\n",
            "35\n",
            "9\n",
            "84\n",
            "29\n",
            "63\n",
            "46\n",
            "88\n",
            "66\n",
            "15\n",
            "99\n",
            "34\n",
            "54\n",
            "9\n",
            "11\n",
            "90\n",
            "78\n",
            "43\n",
            "82\n",
            "56\n",
            "97\n",
            "84\n",
            "68\n",
            "42\n",
            "79\n",
            "73\n",
            "64\n",
            "63\n"
          ]
        }
      ],
      "source": [
        "traverse_matrix(matrix)\n",
        "#print output"
      ]
    }
  ],
  "metadata": {
    "colab": {
      "provenance": []
    },
    "kernelspec": {
      "display_name": "Python 3",
      "language": "python",
      "name": "python3"
    },
    "language_info": {
      "codemirror_mode": {
        "name": "ipython",
        "version": 3
      },
      "file_extension": ".py",
      "mimetype": "text/x-python",
      "name": "python",
      "nbconvert_exporter": "python",
      "pygments_lexer": "ipython3",
      "version": "3.9.7"
    },
    "vscode": {
      "interpreter": {
        "hash": "82ed002fa2d4956f5c6aec99bcefe0f73a9f79882f3c9e2319b14958a5896ac5"
      }
    }
  },
  "nbformat": 4,
  "nbformat_minor": 0
}
