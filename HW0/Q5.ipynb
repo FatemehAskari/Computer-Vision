{
  "cells": [
    {
      "cell_type": "markdown",
      "metadata": {
        "id": "lNKYy5P_DEV-"
      },
      "source": [
        "## Modifying the picture with opencv and numpy libraries"
      ]
    },
    {
      "cell_type": "code",
      "execution_count": 29,
      "metadata": {
        "id": "yexCZ1RCByIY"
      },
      "outputs": [],
      "source": [
        "import numpy as np\n",
        "import matplotlib.pyplot as plt\n",
        "import cv2"
      ]
    },
    {
      "cell_type": "code",
      "execution_count": 2,
      "metadata": {
        "id": "SJcpPdxUKlU_"
      },
      "outputs": [],
      "source": [
        "!wget -q https://github.com/AlexeyAB/darknet/releases/download/yolov4/yolov7.weights "
      ]
    },
    {
      "cell_type": "code",
      "execution_count": 3,
      "metadata": {
        "id": "5CsVoc-fKlVA"
      },
      "outputs": [],
      "source": [
        "!wget -q https://raw.githubusercontent.com/AlexeyAB/darknet/master/cfg/yolov7.cfg"
      ]
    },
    {
      "cell_type": "code",
      "execution_count": 4,
      "metadata": {
        "id": "0Z72Jw09-zmZ"
      },
      "outputs": [],
      "source": [
        "net = cv2.dnn.readNetFromDarknet('yolov7.cfg', 'yolov7.weights')\n",
        "net.setPreferableBackend(cv2.dnn.DNN_BACKEND_OPENCV)"
      ]
    },
    {
      "cell_type": "code",
      "execution_count": 5,
      "metadata": {
        "id": "_RCASdxi--fw"
      },
      "outputs": [],
      "source": [
        "yolo_model = cv2.dnn_DetectionModel(net)\n",
        "yolo_model.setInputParams(size=(1280, 1280), scale=1 / 255, swapRB=True)"
      ]
    },
    {
      "cell_type": "markdown",
      "metadata": {
        "id": "xThGxCMDDUFO"
      },
      "source": [
        "**Just run the above cells without any changes**"
      ]
    },
    {
      "cell_type": "code",
      "execution_count": 21,
      "metadata": {
        "id": "CBTcXsRpKjRM",
        "colab": {
          "base_uri": "https://localhost:8080/"
        },
        "outputId": "01ef477d-8309-41fc-d3d6-934425dc8477"
      },
      "outputs": [
        {
          "output_type": "stream",
          "name": "stdout",
          "text": [
            "The type of is equal to <class 'numpy.ndarray'>\n",
            "The dimensions of the image are equal to (721, 1281, 3)\n",
            "The average of pixels is equal to 139.98719468688319\n",
            "The max of pixels is equal to 255\n",
            "The min of pixels is equal to 0\n",
            "\n",
            "\n",
            "The average of pixels is equal to 136.28111706245446\n",
            "The max of pixels is equal to 255\n",
            "The min of pixels is equal to 0\n"
          ]
        }
      ],
      "source": [
        "\"\"\"\n",
        "Please read the provided image in RGB with opencv lib and print the matrices\n",
        "\n",
        "see bellow links:\n",
        "https://numpy.org/doc/stable/reference/generated/numpy.maximum.html\n",
        "https://numpy.org/doc/stable/reference/generated/numpy.minimum.html\n",
        "https://numpy.org/doc/stable/reference/generated/numpy.mean.html\n",
        "\"\"\"\n",
        "\n",
        "image = cv2.imread(r\"Q5.png\")\n",
        "print(\"The type of is equal to\",type(image))\n",
        "print(\"The dimensions of the image are equal to\",image.shape)\n",
        "print(\"The average of pixels is equal to\",np.mean(image))\n",
        "print(\"The max of pixels is equal to\",np.amax(image))\n",
        "print(\"The min of pixels is equal to\",np.amin(image))\n",
        "print(\"\\n\")\n",
        "\n",
        "#for [:,:,0]\n",
        "imgchannel0=image[:,:,0]\n",
        "print(\"The average of pixels is equal to\",np.mean(imgchannel0))\n",
        "print(\"The max of pixels is equal to\",np.amax(imgchannel0))\n",
        "print(\"The min of pixels is equal to\",np.amin(imgchannel0))\n",
        "\n",
        "\n"
      ]
    },
    {
      "cell_type": "code",
      "execution_count": 9,
      "metadata": {
        "id": "N3xB0Rh2FRZ_"
      },
      "outputs": [],
      "source": [
        "\n",
        "#### Just run this cell \n",
        "\n",
        "\n",
        "CONFIDENCE_THRESHOLD = 0.2\n",
        "NMS_THRESHOLD = 0.4 \n",
        "\n",
        "classes, scores, boxes = yolo_model.detect(image, CONFIDENCE_THRESHOLD, NMS_THRESHOLD)\n",
        "\n",
        "detections = [(box, score) for classid, score, box in zip(classes, scores, boxes)]"
      ]
    },
    {
      "cell_type": "markdown",
      "metadata": {
        "id": "Ot4ivZb6H7r7"
      },
      "source": [
        "the result of the detection is classes of each object, \n",
        "confidence of predicting the class of that object and parameters of the bounding box\n",
        "\n",
        "for every bounding box, we have bellow information:\n",
        "\n",
        "x_min: the x coordinate of the left up corner of the bounding box\n",
        "\n",
        "y_min: the y coordinate of the left up corner of the bounding box\n",
        "\n",
        "w: the width of the bounding box\n",
        "\n",
        "h: the height of the bounding box"
      ]
    },
    {
      "cell_type": "code",
      "execution_count": 20,
      "metadata": {
        "id": "GjB_FADQH7bF",
        "colab": {
          "base_uri": "https://localhost:8080/"
        },
        "outputId": "f6971c83-9f17-4868-8a2d-c8ab1ced429c"
      },
      "outputs": [
        {
          "output_type": "stream",
          "name": "stdout",
          "text": [
            "The x-min for object 1 equal to 912\n",
            "The y-min for object 1 equal to 634\n",
            "The width for object 1 equal to 58\n",
            "The height for object 1 equal to 86 \n",
            "\n",
            "The x-min for object 2 equal to 783\n",
            "The y-min for object 2 equal to 383\n",
            "The width for object 2 equal to 42\n",
            "The height for object 2 equal to 82 \n",
            "\n",
            "The x-min for object 3 equal to 712\n",
            "The y-min for object 3 equal to 390\n",
            "The width for object 3 equal to 33\n",
            "The height for object 3 equal to 89 \n",
            "\n",
            "The x-min for object 4 equal to 1000\n",
            "The y-min for object 4 equal to 105\n",
            "The width for object 4 equal to 17\n",
            "The height for object 4 equal to 34 \n",
            "\n",
            "The x-min for object 5 equal to 744\n",
            "The y-min for object 5 equal to 385\n",
            "The width for object 5 equal to 32\n",
            "The height for object 5 equal to 81 \n",
            "\n",
            "The x-min for object 6 equal to 794\n",
            "The y-min for object 6 equal to 497\n",
            "The width for object 6 equal to 62\n",
            "The height for object 6 equal to 79 \n",
            "\n",
            "The x-min for object 7 equal to 140\n",
            "The y-min for object 7 equal to 317\n",
            "The width for object 7 equal to 32\n",
            "The height for object 7 equal to 76 \n",
            "\n",
            "The x-min for object 8 equal to 164\n",
            "The y-min for object 8 equal to 349\n",
            "The width for object 8 equal to 24\n",
            "The height for object 8 equal to 49 \n",
            "\n",
            "The x-min for object 9 equal to 1044\n",
            "The y-min for object 9 equal to 0\n",
            "The width for object 9 equal to 8\n",
            "The height for object 9 equal to 9 \n",
            "\n",
            "The x-min for object 10 equal to 1109\n",
            "The y-min for object 10 equal to 454\n",
            "The width for object 10 equal to 53\n",
            "The height for object 10 equal to 75 \n",
            "\n",
            "The x-min for object 11 equal to 612\n",
            "The y-min for object 11 equal to 139\n",
            "The width for object 11 equal to 17\n",
            "The height for object 11 equal to 37 \n",
            "\n",
            "The x-min for object 12 equal to 981\n",
            "The y-min for object 12 equal to 30\n",
            "The width for object 12 equal to 10\n",
            "The height for object 12 equal to 17 \n",
            "\n",
            "The x-min for object 13 equal to 633\n",
            "The y-min for object 13 equal to 141\n",
            "The width for object 13 equal to 11\n",
            "The height for object 13 equal to 34 \n",
            "\n",
            "The x-min for object 14 equal to 783\n",
            "The y-min for object 14 equal to 483\n",
            "The width for object 14 equal to 48\n",
            "The height for object 14 equal to 72 \n",
            "\n",
            "The x-min for object 15 equal to 854\n",
            "The y-min for object 15 equal to 378\n",
            "The width for object 15 equal to 35\n",
            "The height for object 15 equal to 60 \n",
            "\n",
            "The x-min for object 16 equal to 1004\n",
            "The y-min for object 16 equal to 34\n",
            "The width for object 16 equal to 8\n",
            "The height for object 16 equal to 14 \n",
            "\n",
            "The x-min for object 17 equal to 624\n",
            "The y-min for object 17 equal to 30\n",
            "The width for object 17 equal to 12\n",
            "The height for object 17 equal to 18 \n",
            "\n",
            "The x-min for object 18 equal to 881\n",
            "The y-min for object 18 equal to 387\n",
            "The width for object 18 equal to 22\n",
            "The height for object 18 equal to 32 \n",
            "\n",
            "The x-min for object 19 equal to 562\n",
            "The y-min for object 19 equal to 169\n",
            "The width for object 19 equal to 13\n",
            "The height for object 19 equal to 23 \n",
            "\n",
            "The x-min for object 20 equal to 1004\n",
            "The y-min for object 20 equal to 20\n",
            "The width for object 20 equal to 10\n",
            "The height for object 20 equal to 28 \n",
            "\n",
            "The x-min for object 21 equal to 870\n",
            "The y-min for object 21 equal to 674\n",
            "The width for object 21 equal to 133\n",
            "The height for object 21 equal to 46 \n",
            "\n",
            "The x-min for object 22 equal to 868\n",
            "The y-min for object 22 equal to 414\n",
            "The width for object 22 equal to 16\n",
            "The height for object 22 equal to 42 \n",
            "\n",
            "The x-min for object 23 equal to 604\n",
            "The y-min for object 23 equal to 38\n",
            "The width for object 23 equal to 25\n",
            "The height for object 23 equal to 14 \n",
            "\n",
            "The x-min for object 24 equal to 560\n",
            "The y-min for object 24 equal to 170\n",
            "The width for object 24 equal to 14\n",
            "The height for object 24 equal to 22 \n",
            "\n",
            "The x-min for object 25 equal to 982\n",
            "The y-min for object 25 equal to 31\n",
            "The width for object 25 equal to 9\n",
            "The height for object 25 equal to 16 \n",
            "\n",
            "The x-min for object 26 equal to 555\n",
            "The y-min for object 26 equal to 60\n",
            "The width for object 26 equal to 13\n",
            "The height for object 26 equal to 12 \n",
            "\n",
            "The x-min for object 27 equal to 579\n",
            "The y-min for object 27 equal to 56\n",
            "The width for object 27 equal to 8\n",
            "The height for object 27 equal to 12 \n",
            "\n",
            "The x-min for object 28 equal to 373\n",
            "The y-min for object 28 equal to 118\n",
            "The width for object 28 equal to 24\n",
            "The height for object 28 equal to 20 \n",
            "\n",
            "The x-min for object 29 equal to 550\n",
            "The y-min for object 29 equal to 157\n",
            "The width for object 29 equal to 26\n",
            "The height for object 29 equal to 35 \n",
            "\n",
            "The x-min for object 30 equal to 882\n",
            "The y-min for object 30 equal to 398\n",
            "The width for object 30 equal to 21\n",
            "The height for object 30 equal to 43 \n",
            "\n",
            "The x-min for object 31 equal to 850\n",
            "The y-min for object 31 equal to 251\n",
            "The width for object 31 equal to 82\n",
            "The height for object 31 equal to 71 \n",
            "\n",
            "The x-min for object 32 equal to 892\n",
            "The y-min for object 32 equal to 190\n",
            "The width for object 32 equal to 67\n",
            "The height for object 32 equal to 58 \n",
            "\n",
            "The x-min for object 33 equal to 421\n",
            "The y-min for object 33 equal to 108\n",
            "The width for object 33 equal to 100\n",
            "The height for object 33 equal to 34 \n",
            "\n",
            "The x-min for object 34 equal to 742\n",
            "The y-min for object 34 equal to 313\n",
            "The width for object 34 equal to 116\n",
            "The height for object 34 equal to 92 \n",
            "\n",
            "The x-min for object 35 equal to 648\n",
            "The y-min for object 35 equal to 268\n",
            "The width for object 35 equal to 110\n",
            "The height for object 35 equal to 94 \n",
            "\n",
            "The x-min for object 36 equal to 1131\n",
            "The y-min for object 36 equal to 58\n",
            "The width for object 36 equal to 32\n",
            "The height for object 36 equal to 17 \n",
            "\n",
            "The x-min for object 37 equal to 505\n",
            "The y-min for object 37 equal to 84\n",
            "The width for object 37 equal to 76\n",
            "The height for object 37 equal to 32 \n",
            "\n",
            "The x-min for object 38 equal to 1105\n",
            "The y-min for object 38 equal to 18\n",
            "The width for object 38 equal to 22\n",
            "The height for object 38 equal to 19 \n",
            "\n",
            "The x-min for object 39 equal to 1134\n",
            "The y-min for object 39 equal to 49\n",
            "The width for object 39 equal to 30\n",
            "The height for object 39 equal to 11 \n",
            "\n",
            "The x-min for object 40 equal to 617\n",
            "The y-min for object 40 equal to 17\n",
            "The width for object 40 equal to 39\n",
            "The height for object 40 equal to 21 \n",
            "\n",
            "The x-min for object 41 equal to 633\n",
            "The y-min for object 41 equal to 53\n",
            "The width for object 41 equal to 45\n",
            "The height for object 41 equal to 24 \n",
            "\n",
            "The x-min for object 42 equal to 445\n",
            "The y-min for object 42 equal to 94\n",
            "The width for object 42 equal to 72\n",
            "The height for object 42 equal to 18 \n",
            "\n",
            "The x-min for object 43 equal to 58\n",
            "The y-min for object 43 equal to 366\n",
            "The width for object 43 equal to 28\n",
            "The height for object 43 equal to 12 \n",
            "\n",
            "The x-min for object 44 equal to 1119\n",
            "The y-min for object 44 equal to 0\n",
            "The width for object 44 equal to 21\n",
            "The height for object 44 equal to 8 \n",
            "\n",
            "The x-min for object 45 equal to 1078\n",
            "The y-min for object 45 equal to 488\n",
            "The width for object 45 equal to 92\n",
            "The height for object 45 equal to 49 \n",
            "\n",
            "The x-min for object 46 equal to 723\n",
            "The y-min for object 46 equal to 67\n",
            "The width for object 46 equal to 26\n",
            "The height for object 46 equal to 30 \n",
            "\n",
            "The x-min for object 47 equal to 511\n",
            "The y-min for object 47 equal to 40\n",
            "The width for object 47 equal to 37\n",
            "The height for object 47 equal to 16 \n",
            "\n",
            "The x-min for object 48 equal to 122\n",
            "The y-min for object 48 equal to 337\n",
            "The width for object 48 equal to 24\n",
            "The height for object 48 equal to 45 \n",
            "\n",
            "The x-min for object 49 equal to 777\n",
            "The y-min for object 49 equal to 508\n",
            "The width for object 49 equal to 33\n",
            "The height for object 49 equal to 54 \n",
            "\n"
          ]
        }
      ],
      "source": [
        "### please print the details of the detections\n",
        "num=0\n",
        "for box in boxes:\n",
        "  num+=1\n",
        "  print(\"The x-min for object\",num,\"equal to\",box[0])\n",
        "  print(\"The y-min for object\",num,\"equal to\",box[1])\n",
        "  print(\"The width for object\",num,\"equal to\",box[2])\n",
        "  print(\"The height for object\",num,\"equal to\",box[3],'\\n')\n",
        "\n"
      ]
    },
    {
      "cell_type": "code",
      "execution_count": 26,
      "metadata": {
        "id": "OplX-80cLma3"
      },
      "outputs": [],
      "source": [
        "def visualize(frame, detections):\n",
        "  \"\"\"\n",
        "  Draw all bounding boxes on the main original image and show the result\n",
        "  Then save result with result.png name\n",
        "\n",
        "  see the bellow links:\n",
        "  https://matplotlib.org/stable/api/_as_gen/matplotlib.pyplot.imshow.html\n",
        "  https://www.geeksforgeeks.org/python-opencv-cv2-imwrite-method/\n",
        "  \"\"\"\n",
        "\n",
        "  ########################################\n",
        "  ########### YOUR CODES GO HERE #########\n",
        "  \n",
        "  generated_img =image.copy()\n",
        "  for box in boxes:\n",
        "    x_min,y_min,w,h = box\n",
        "    cv2.rectangle(generated_img, (x_min, y_min), (x_min+w, y_min+h), (0, 0, 255), 2)\n",
        " \n",
        "  # save resulting image\n",
        "  cv2.imwrite('result.png',generated_img)      \n",
        "\n",
        "  # show thresh and result    \n",
        "  # cv2.imshow(\"bounding_box\", generated_img)\n",
        "  # cv2.waitKey(0)\n",
        "  # cv2.destroyAllWindows()\n",
        "\n",
        "  ########################################"
      ]
    },
    {
      "cell_type": "code",
      "execution_count": 28,
      "metadata": {
        "id": "bPc3unKsLwaj"
      },
      "outputs": [],
      "source": [
        "visualize(image, detections)"
      ]
    },
    {
      "cell_type": "code",
      "execution_count": 30,
      "metadata": {
        "colab": {
          "base_uri": "https://localhost:8080/"
        },
        "id": "5sZEn6zYKlVE",
        "outputId": "ed2c8c73-303e-488d-b952-0c1264ca2f43"
      },
      "outputs": [
        {
          "output_type": "stream",
          "name": "stdout",
          "text": [
            "result.png\n",
            "yes\n"
          ]
        }
      ],
      "source": [
        "# Check if file has been saved or not\n",
        "!(ls result.png && echo yes) || echo no"
      ]
    }
  ],
  "metadata": {
    "colab": {
      "provenance": []
    },
    "kernelspec": {
      "display_name": "Python 3",
      "language": "python",
      "name": "python3"
    },
    "language_info": {
      "codemirror_mode": {
        "name": "ipython",
        "version": 3
      },
      "file_extension": ".py",
      "mimetype": "text/x-python",
      "name": "python",
      "nbconvert_exporter": "python",
      "pygments_lexer": "ipython3",
      "version": "3.9.7"
    },
    "vscode": {
      "interpreter": {
        "hash": "82ed002fa2d4956f5c6aec99bcefe0f73a9f79882f3c9e2319b14958a5896ac5"
      }
    }
  },
  "nbformat": 4,
  "nbformat_minor": 0
}