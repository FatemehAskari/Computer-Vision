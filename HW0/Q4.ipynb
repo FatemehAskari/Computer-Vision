{
 "cells": [
  {
   "cell_type": "markdown",
   "metadata": {},
   "source": [
    "# Q4"
   ]
  },
  {
   "cell_type": "markdown",
   "metadata": {},
   "source": [
    "## Part A"
   ]
  },
  {
   "cell_type": "code",
   "execution_count": 13,
   "metadata": {},
   "outputs": [
    {
     "name": "stdout",
     "output_type": "stream",
     "text": [
      "[[0.796875 1.796875 2.796875]\n",
      " [4.       5.       6.      ]\n",
      " [7.203125 8.203125 9.203125]]\n"
     ]
    }
   ],
   "source": [
    "\"\"\"\n",
    "Please define the mentioned matrices and the operations\n",
    "\n",
    "consider the bellow links:\n",
    "https://numpy.org/doc/stable/reference/generated/numpy.transpose.html\n",
    "\n",
    "https://numpy.org/doc/stable/reference/generated/numpy.dot.html\n",
    "\n",
    "\"\"\"\n",
    "\n",
    "##############################################\n",
    "############ YOUR CODES GO HERE ##############\n",
    "\n",
    "##############################################\n",
    "\n",
    "import numpy as np\n",
    "\n",
    "matrix=np.array([[1,2,3],[4,5,6],[7,8,9]])\n",
    "a=np.array([[1],[-1],[1]])\n",
    "b=np.array([[1,5,6],[-1,4,3],[1,2,3]])\n",
    "transformatrix=np.transpose(matrix)\n",
    "multiplematrixes=np.dot(transformatrix,matrix)\n",
    "reversematrix=np.linalg.inv(multiplematrixes)\n",
    "multimatrix2=np.dot(reversematrix, transformatrix)\n",
    "multimatrix3=np.dot(multimatrix2,a)\n",
    "print(np.add(multimatrix3,matrix))\n"
   ]
  },
  {
   "cell_type": "markdown",
   "metadata": {},
   "source": [
    "## Part B"
   ]
  },
  {
   "cell_type": "code",
   "execution_count": 12,
   "metadata": {},
   "outputs": [],
   "source": [
    "def window_sliding(A, B):\n",
    "\n",
    "  \"\"\"\n",
    "  In this function you should implement the sliding window method\n",
    "\n",
    "  Arguments:\n",
    "    inputs:\n",
    "      A: a matrix of 3*3 order for treating as the window\n",
    "      B: a matrix of 5*5 order for treating as the input matrix\n",
    "    outputs:\n",
    "      res: resulting matrix of the sliding window \n",
    "  \"\"\"\n",
    "\n",
    "  ##############################################\n",
    "  ############ YOUR CODES GO HERE ##############\n",
    "  n=A.shape[0]\n",
    "  m=B.shape[0]\n",
    "  res = np.zeros(shape=(n-m+1, n-m+1))\n",
    "  for row in range(0,n-m+1):\n",
    "    for col in range(0,n-m+1):\n",
    "      res[row,col]=muilti(B,A[row:row+m,col:col+m])           \n",
    "  return res\n",
    "\n",
    "def muilti(B,S):\n",
    "  sum=0\n",
    "  n=B.shape[0]\n",
    "  for i in range(0,n):\n",
    "    for j in range(0,n):\n",
    "      sum+=B[i,j]*S[i,j]\n",
    "  return sum    "
   ]
  },
  {
   "cell_type": "code",
   "execution_count": 13,
   "metadata": {},
   "outputs": [
    {
     "name": "stdout",
     "output_type": "stream",
     "text": [
      "[[-7. -5. -7.]\n",
      " [-5. -2. -5.]\n",
      " [-7. -5. -7.]]\n"
     ]
    }
   ],
   "source": [
    "import numpy as np\n",
    "A = np.array([[1,1,1,1,1], [1,2,2,2,1] , [1,2,2,2,1] , [1,2,2,2,1] ,[1,1,1,1,1]])\n",
    "B = np.array([[1,1,1], [1,-9,1], [1,1,1]])\n",
    "print(window_sliding(A, B))"
   ]
  }
 ],
 "metadata": {
  "kernelspec": {
   "display_name": "Python 3",
   "language": "python",
   "name": "python3"
  },
  "language_info": {
   "codemirror_mode": {
    "name": "ipython",
    "version": 3
   },
   "file_extension": ".py",
   "mimetype": "text/x-python",
   "name": "python",
   "nbconvert_exporter": "python",
   "pygments_lexer": "ipython3",
   "version": "3.9.7"
  },
  "orig_nbformat": 4,
  "vscode": {
   "interpreter": {
    "hash": "82ed002fa2d4956f5c6aec99bcefe0f73a9f79882f3c9e2319b14958a5896ac5"
   }
  }
 },
 "nbformat": 4,
 "nbformat_minor": 2
}
