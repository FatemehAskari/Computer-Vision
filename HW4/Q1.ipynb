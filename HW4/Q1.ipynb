{
 "cells": [
  {
   "cell_type": "code",
   "execution_count": 4,
   "metadata": {},
   "outputs": [],
   "source": [
    "import cv2\n",
    "import numpy as np"
   ]
  },
  {
   "attachments": {},
   "cell_type": "markdown",
   "metadata": {},
   "source": [
    "part a"
   ]
  },
  {
   "cell_type": "code",
   "execution_count": 8,
   "metadata": {},
   "outputs": [
    {
     "name": "stdout",
     "output_type": "stream",
     "text": [
      "0 : 0\n",
      "1 : 1\n",
      "2 : 2\n",
      "3 : 1\n",
      "4 : 4\n",
      "5 : 1\n",
      "6 : 0\n",
      "7 : 1\n",
      "8 : 1\n",
      "9 : 2\n",
      "10 : 3\n",
      "11 : 3\n",
      "12 : 3\n",
      "13 : 1\n",
      "14 : 1\n",
      "15 : 1\n",
      "Mean intensity:  8.12\n",
      "Median intensity:  9.0\n",
      "Mode intensity:  4\n",
      "Variance of intensity:  16.7456\n"
     ]
    }
   ],
   "source": [
    "img = np.array([[12,13,5,4,9],\n",
    "                [11,7,10,10,1],\n",
    "                [8,11,3,2,2],\n",
    "                [9,12,4,4,4],\n",
    "                [10,11,12,15,14]])\n",
    "\n",
    "# Calculate the histogram of the image\n",
    "hist, bins = np.histogram(img.flatten(), 16, [0, 16])\n",
    "for i in range(0,16):\n",
    "    print(i,':',hist[i])\n",
    "# Calculate the mean intensity\n",
    "mean_intensity = np.mean(img)\n",
    "\n",
    "# Calculate the median intensity\n",
    "median_intensity = np.median(img)\n",
    "\n",
    "# Calculate the mode intensity\n",
    "mode_intensity = np.argmax(hist)\n",
    "\n",
    "# Calculate the variance of the intensity values\n",
    "variance_intensity = np.var(img)\n",
    "\n",
    "print(\"Mean intensity: \", mean_intensity)\n",
    "print(\"Median intensity: \", median_intensity)\n",
    "print(\"Mode intensity: \", mode_intensity)\n",
    "print(\"Variance of intensity: \", variance_intensity)"
   ]
  },
  {
   "attachments": {},
   "cell_type": "markdown",
   "metadata": {},
   "source": [
    "partb"
   ]
  },
  {
   "cell_type": "code",
   "execution_count": 19,
   "metadata": {},
   "outputs": [
    {
     "name": "stdout",
     "output_type": "stream",
     "text": [
      "6.639053254437869 2.3541666666666665\n",
      "for threadshold 9.5: 114.55769230769229\n",
      "10.106546745562131\n",
      "11.717451523545705 1.3333333333333333\n",
      "19 6\n",
      "for threadshold 11.5: 230.63157894736838\n"
     ]
    }
   ],
   "source": [
    "# for threashold 9.5\n",
    "w1=len(img[img<9.5])\n",
    "w2=len(img[img>9.5])\n",
    "\n",
    "v1=np.var(img[img<9.5])\n",
    "v2=np.var(img[img>9.5])\n",
    "\n",
    "print(v1,v2)\n",
    "\n",
    "print(\"for threadshold 9.5:\",w1*v1+w2*v2)\n",
    "\n",
    "\n",
    "# for threashold 11.5\n",
    "w1=len(img[img<11.5])\n",
    "w2=len(img[img>11.5])\n",
    "\n",
    "v1=np.var(img[img<11.5])\n",
    "v2=np.var(img[img>11.5])\n",
    "\n",
    "print(v1,v2)\n",
    "print(w1,w2)\n",
    "\n",
    "print(\"for threadshold 11.5:\",w1*v1+w2*v2)\n"
   ]
  }
 ],
 "metadata": {
  "kernelspec": {
   "display_name": "Python 3",
   "language": "python",
   "name": "python3"
  },
  "language_info": {
   "codemirror_mode": {
    "name": "ipython",
    "version": 3
   },
   "file_extension": ".py",
   "mimetype": "text/x-python",
   "name": "python",
   "nbconvert_exporter": "python",
   "pygments_lexer": "ipython3",
   "version": "3.11.2"
  },
  "orig_nbformat": 4
 },
 "nbformat": 4,
 "nbformat_minor": 2
}
